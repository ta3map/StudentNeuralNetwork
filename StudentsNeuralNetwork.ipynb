{
  "nbformat": 4,
  "nbformat_minor": 0,
  "metadata": {
    "colab": {
      "name": "StudentsNeuralNetwork.ipynb",
      "provenance": [],
      "collapsed_sections": [],
      "authorship_tag": "ABX9TyOBg07h9FMTtv7GJvMX2Rk7",
      "include_colab_link": true
    },
    "kernelspec": {
      "name": "python3",
      "display_name": "Python 3"
    },
    "language_info": {
      "name": "python"
    }
  },
  "cells": [
    {
      "cell_type": "markdown",
      "metadata": {
        "id": "view-in-github",
        "colab_type": "text"
      },
      "source": [
        "<a href=\"https://colab.research.google.com/github/ta3map/StudentNeuralNetwork/blob/main/StudentsNeuralNetwork.ipynb\" target=\"_parent\"><img src=\"https://colab.research.google.com/assets/colab-badge.svg\" alt=\"Open In Colab\"/></a>"
      ]
    },
    {
      "cell_type": "markdown",
      "metadata": {
        "id": "MNkRIIs_1i9o"
      },
      "source": [
        "# Predict next grades from previous"
      ]
    },
    {
      "cell_type": "markdown",
      "metadata": {
        "id": "dgEpGzJs11T5"
      },
      "source": [
        "Example data"
      ]
    },
    {
      "cell_type": "code",
      "metadata": {
        "colab": {
          "base_uri": "https://localhost:8080/"
        },
        "id": "FJxgemSBn3QA",
        "outputId": "92a0f46e-2ff5-499a-838c-519a28aac5fb"
      },
      "source": [
        "!git clone https://github.com/ta3map/StudentNeuralNetwork"
      ],
      "execution_count": 14,
      "outputs": [
        {
          "output_type": "stream",
          "text": [
            "fatal: destination path 'StudentNeuralNetwork' already exists and is not an empty directory.\n"
          ],
          "name": "stdout"
        }
      ]
    },
    {
      "cell_type": "code",
      "metadata": {
        "colab": {
          "base_uri": "https://localhost:8080/",
          "height": 394
        },
        "id": "E71y7ZN8keXF",
        "outputId": "6caccc32-4ea3-46c6-f328-d228adbe0563"
      },
      "source": [
        "import pandas as pd\n",
        "import numpy as np\n",
        "\n",
        "df = pd.read_excel('/content/StudentNeuralNetwork/example_dataset.xltx', skiprows = 0)\n",
        "\n",
        "# make all columns as str\n",
        "df.columns = df.columns.astype(str)\n",
        "\n",
        "df"
      ],
      "execution_count": 15,
      "outputs": [
        {
          "output_type": "execute_result",
          "data": {
            "text/html": [
              "<div>\n",
              "<style scoped>\n",
              "    .dataframe tbody tr th:only-of-type {\n",
              "        vertical-align: middle;\n",
              "    }\n",
              "\n",
              "    .dataframe tbody tr th {\n",
              "        vertical-align: top;\n",
              "    }\n",
              "\n",
              "    .dataframe thead th {\n",
              "        text-align: right;\n",
              "    }\n",
              "</style>\n",
              "<table border=\"1\" class=\"dataframe\">\n",
              "  <thead>\n",
              "    <tr style=\"text-align: right;\">\n",
              "      <th></th>\n",
              "      <th>year</th>\n",
              "      <th>2018</th>\n",
              "      <th>2018.1</th>\n",
              "      <th>2018.2</th>\n",
              "      <th>2019</th>\n",
              "      <th>2019.1</th>\n",
              "      <th>2019.2</th>\n",
              "      <th>2019.3</th>\n",
              "      <th>2020</th>\n",
              "      <th>2020.1</th>\n",
              "      <th>2020.2</th>\n",
              "    </tr>\n",
              "  </thead>\n",
              "  <tbody>\n",
              "    <tr>\n",
              "      <th>0</th>\n",
              "      <td>student</td>\n",
              "      <td>math</td>\n",
              "      <td>physics</td>\n",
              "      <td>history</td>\n",
              "      <td>computer science</td>\n",
              "      <td>literature</td>\n",
              "      <td>music</td>\n",
              "      <td>electricity</td>\n",
              "      <td>management</td>\n",
              "      <td>economics</td>\n",
              "      <td>circuit design</td>\n",
              "    </tr>\n",
              "    <tr>\n",
              "      <th>1</th>\n",
              "      <td>1</td>\n",
              "      <td>5</td>\n",
              "      <td>4</td>\n",
              "      <td>3</td>\n",
              "      <td>5</td>\n",
              "      <td>3</td>\n",
              "      <td>3</td>\n",
              "      <td>5</td>\n",
              "      <td>3</td>\n",
              "      <td>3</td>\n",
              "      <td>4</td>\n",
              "    </tr>\n",
              "    <tr>\n",
              "      <th>2</th>\n",
              "      <td>2</td>\n",
              "      <td>4</td>\n",
              "      <td>4</td>\n",
              "      <td>4</td>\n",
              "      <td>4</td>\n",
              "      <td>3</td>\n",
              "      <td>4</td>\n",
              "      <td>4</td>\n",
              "      <td>4</td>\n",
              "      <td>4</td>\n",
              "      <td>4</td>\n",
              "    </tr>\n",
              "    <tr>\n",
              "      <th>3</th>\n",
              "      <td>3</td>\n",
              "      <td>2</td>\n",
              "      <td>3</td>\n",
              "      <td>5</td>\n",
              "      <td>2</td>\n",
              "      <td>5</td>\n",
              "      <td>5</td>\n",
              "      <td>2</td>\n",
              "      <td>2</td>\n",
              "      <td>5</td>\n",
              "      <td>3</td>\n",
              "    </tr>\n",
              "    <tr>\n",
              "      <th>4</th>\n",
              "      <td>4</td>\n",
              "      <td>5</td>\n",
              "      <td>5</td>\n",
              "      <td>4</td>\n",
              "      <td>5</td>\n",
              "      <td>4</td>\n",
              "      <td>4</td>\n",
              "      <td>5</td>\n",
              "      <td>5</td>\n",
              "      <td>4</td>\n",
              "      <td>5</td>\n",
              "    </tr>\n",
              "    <tr>\n",
              "      <th>5</th>\n",
              "      <td>5</td>\n",
              "      <td>3</td>\n",
              "      <td>4</td>\n",
              "      <td>3</td>\n",
              "      <td>3</td>\n",
              "      <td>3</td>\n",
              "      <td>3</td>\n",
              "      <td>4</td>\n",
              "      <td>3</td>\n",
              "      <td>3</td>\n",
              "      <td>3</td>\n",
              "    </tr>\n",
              "    <tr>\n",
              "      <th>6</th>\n",
              "      <td>6</td>\n",
              "      <td>5</td>\n",
              "      <td>4</td>\n",
              "      <td>3</td>\n",
              "      <td>4</td>\n",
              "      <td>5</td>\n",
              "      <td>3</td>\n",
              "      <td>4</td>\n",
              "      <td>3</td>\n",
              "      <td>3</td>\n",
              "      <td>5</td>\n",
              "    </tr>\n",
              "    <tr>\n",
              "      <th>7</th>\n",
              "      <td>7</td>\n",
              "      <td>3</td>\n",
              "      <td>3</td>\n",
              "      <td>4</td>\n",
              "      <td>3</td>\n",
              "      <td>4</td>\n",
              "      <td>4</td>\n",
              "      <td>3</td>\n",
              "      <td>4</td>\n",
              "      <td>4</td>\n",
              "      <td>3</td>\n",
              "    </tr>\n",
              "    <tr>\n",
              "      <th>8</th>\n",
              "      <td>8</td>\n",
              "      <td>4</td>\n",
              "      <td>2</td>\n",
              "      <td>2</td>\n",
              "      <td>2</td>\n",
              "      <td>3</td>\n",
              "      <td>2</td>\n",
              "      <td>4</td>\n",
              "      <td>2</td>\n",
              "      <td>2</td>\n",
              "      <td>4</td>\n",
              "    </tr>\n",
              "    <tr>\n",
              "      <th>9</th>\n",
              "      <td>9</td>\n",
              "      <td>4</td>\n",
              "      <td>4</td>\n",
              "      <td>4</td>\n",
              "      <td>4</td>\n",
              "      <td>4</td>\n",
              "      <td>4</td>\n",
              "      <td>4</td>\n",
              "      <td>4</td>\n",
              "      <td>4</td>\n",
              "      <td>4</td>\n",
              "    </tr>\n",
              "    <tr>\n",
              "      <th>10</th>\n",
              "      <td>10</td>\n",
              "      <td>5</td>\n",
              "      <td>5</td>\n",
              "      <td>5</td>\n",
              "      <td>5</td>\n",
              "      <td>5</td>\n",
              "      <td>5</td>\n",
              "      <td>5</td>\n",
              "      <td>5</td>\n",
              "      <td>5</td>\n",
              "      <td>5</td>\n",
              "    </tr>\n",
              "  </tbody>\n",
              "</table>\n",
              "</div>"
            ],
            "text/plain": [
              "       year  2018   2018.1  ...        2020     2020.1          2020.2\n",
              "0   student  math  physics  ...  management  economics  circuit design\n",
              "1         1     5        4  ...           3          3               4\n",
              "2         2     4        4  ...           4          4               4\n",
              "3         3     2        3  ...           2          5               3\n",
              "4         4     5        5  ...           5          4               5\n",
              "5         5     3        4  ...           3          3               3\n",
              "6         6     5        4  ...           3          3               5\n",
              "7         7     3        3  ...           4          4               3\n",
              "8         8     4        2  ...           2          2               4\n",
              "9         9     4        4  ...           4          4               4\n",
              "10       10     5        5  ...           5          5               5\n",
              "\n",
              "[11 rows x 11 columns]"
            ]
          },
          "metadata": {
            "tags": []
          },
          "execution_count": 15
        }
      ]
    },
    {
      "cell_type": "markdown",
      "metadata": {
        "id": "fi9CBEV-1tet"
      },
      "source": [
        "Choose the year"
      ]
    },
    {
      "cell_type": "code",
      "metadata": {
        "colab": {
          "base_uri": "https://localhost:8080/"
        },
        "id": "dKocLwSwrPYh",
        "outputId": "7072a175-f8e1-4428-9a40-02860fb49650"
      },
      "source": [
        "year = 2018\n",
        "# Find column whose name contains a specific string - year\n",
        "spike_cols = [col for col in df.columns if str(year) in col]\n",
        "print(list(df.columns))\n",
        "print(spike_cols)"
      ],
      "execution_count": 16,
      "outputs": [
        {
          "output_type": "stream",
          "text": [
            "['year', '2018', '2018.1', '2018.2', '2019', '2019.1', '2019.2', '2019.3', '2020', '2020.1', '2020.2']\n",
            "['2018', '2018.1', '2018.2']\n"
          ],
          "name": "stdout"
        }
      ]
    },
    {
      "cell_type": "code",
      "metadata": {
        "colab": {
          "base_uri": "https://localhost:8080/"
        },
        "id": "rVEMEwwPuWl2",
        "outputId": "941d9d50-524a-4537-b0e6-97df2fa94ea2"
      },
      "source": [
        "# extract grades from this year\n",
        "df[spike_cols].to_numpy()[1:-1].astype(int)"
      ],
      "execution_count": 17,
      "outputs": [
        {
          "output_type": "execute_result",
          "data": {
            "text/plain": [
              "array([[5, 4, 3],\n",
              "       [4, 4, 4],\n",
              "       [2, 3, 5],\n",
              "       [5, 5, 4],\n",
              "       [3, 4, 3],\n",
              "       [5, 4, 3],\n",
              "       [3, 3, 4],\n",
              "       [4, 2, 2],\n",
              "       [4, 4, 4]])"
            ]
          },
          "metadata": {
            "tags": []
          },
          "execution_count": 17
        }
      ]
    },
    {
      "cell_type": "code",
      "metadata": {
        "colab": {
          "base_uri": "https://localhost:8080/"
        },
        "id": "O7Q8gZ-L0hXF",
        "outputId": "d9c0ee8d-093f-491d-ad40-fbcab4791f47"
      },
      "source": [
        "df[spike_cols].to_numpy()[0].astype(str)"
      ],
      "execution_count": 18,
      "outputs": [
        {
          "output_type": "execute_result",
          "data": {
            "text/plain": [
              "array(['math', 'physics', 'history'], dtype='<U7')"
            ]
          },
          "metadata": {
            "tags": []
          },
          "execution_count": 18
        }
      ]
    },
    {
      "cell_type": "markdown",
      "metadata": {
        "id": "PMMWY8Qa1yES"
      },
      "source": [
        "a function for getting data from the year"
      ]
    },
    {
      "cell_type": "code",
      "metadata": {
        "colab": {
          "base_uri": "https://localhost:8080/"
        },
        "id": "F_y6QVYavlTg",
        "outputId": "dc3cd6b4-21f4-456d-8930-11f20251b206"
      },
      "source": [
        "# function for getting data from the year\n",
        "def getYear(df, year):\n",
        "  spike_cols = [col for col in df.columns if str(year) in col]\n",
        "  data_out = df[spike_cols].to_numpy()[1:-1].astype(int)\n",
        "  columns = df[spike_cols].to_numpy()[0].astype(str)\n",
        "  return data_out, columns\n",
        "\n",
        "first_year, first_columns = getYear(df, 2018)\n",
        "second_year, second_columns = getYear(df, 2019)\n",
        "third_year, third_columns = getYear(df, 2020)\n",
        "\n",
        "ouput_size = np.size(second_year, 1)\n",
        "input_size = np.size(first_year, 1)\n",
        "R = [];\n",
        "j = 0 # output index \n",
        "for i in range(input_size):  # input index\n",
        "  r = np.corrcoef(first_year[:, i], second_year[:, j])\n",
        "  R.append(r[0, 1])\n",
        "\n",
        "print('how ', first_columns, ' predicts', second_columns[j], ':')\n",
        "print(R)"
      ],
      "execution_count": 19,
      "outputs": [
        {
          "output_type": "stream",
          "text": [
            "how  ['math' 'physics' 'history']  predicts computer science :\n",
            "[0.7926290870042669, 0.8512565307587486, 0.02786391062876759]\n"
          ],
          "name": "stdout"
        }
      ]
    },
    {
      "cell_type": "code",
      "metadata": {
        "colab": {
          "base_uri": "https://localhost:8080/"
        },
        "id": "FdVF-ow8pIXU",
        "outputId": "8d621fb2-ac93-4b78-c841-42d9b8f30559"
      },
      "source": [
        "from numpy.linalg import norm\n",
        "\n",
        "# 'music' from 'math' and 'history'\n",
        "R = np.array([-0.5,  1, 0.5, 0.6, -1])\n",
        "grades_in = np.array([5, 4, 5, 2, 4])\n",
        "\n",
        "Rp = R.copy()\n",
        "#Rp[Rp<0] = 0\n",
        "p_cond = np.where(Rp>0)\n",
        "Rbp = Rp[p_cond]/norm(Rp[p_cond])\n",
        "Rp[Rp<0] = 0\n",
        "\n",
        "Rn = R.copy()\n",
        "n_cond = np.where(Rn<0)\n",
        "Rbn = Rn[n_cond]/norm(Rn[n_cond])\n",
        "\n",
        "print(R[p_cond], norm(Rbp*grades_in[p_cond]), R[n_cond], norm(Rbn*grades_in[n_cond]))\n",
        "grade_out = norm(Rp*grades_in)/norm(Rp)\n",
        "grade_out"
      ],
      "execution_count": 20,
      "outputs": [
        {
          "output_type": "stream",
          "text": [
            "[1.  0.5 0.6] 3.8359204520278722 [-0.5 -1. ] 4.219004621945797\n"
          ],
          "name": "stdout"
        },
        {
          "output_type": "execute_result",
          "data": {
            "text/plain": [
              "3.8359204520278722"
            ]
          },
          "metadata": {
            "tags": []
          },
          "execution_count": 20
        }
      ]
    },
    {
      "cell_type": "markdown",
      "metadata": {
        "id": "8ZMi6PCovs4O"
      },
      "source": [
        "Predictive function for all grades"
      ]
    },
    {
      "cell_type": "code",
      "metadata": {
        "colab": {
          "base_uri": "https://localhost:8080/"
        },
        "id": "sAO3KDYfvr7m",
        "outputId": "31fcdd55-ccd6-49d6-c742-95fe27176d9c"
      },
      "source": [
        "first_year, first_columns = getYear(df, 2018)\n",
        "second_year, second_columns = getYear(df, 2019)\n",
        "\n",
        "def learnGrades(first_year, second_year):\n",
        "  ouput_size = np.size(second_year, 1)\n",
        "  input_size = np.size(first_year, 1)\n",
        "  R2 = [];\n",
        "  for j in range(ouput_size): # output index \n",
        "    R1 = [];  \n",
        "    for i in range(input_size):  # input index\n",
        "      r = np.corrcoef(first_year[:, i], second_year[:, j])\n",
        "      R1.append(r[0, 1])\n",
        "    R2.append(R1);\n",
        "  return np.array(R2)\n",
        "\n",
        "R2 = learnGrades(first_year, second_year)\n",
        "print(R2)\n",
        "\n",
        "def predictGrades(grades_in, R2):\n",
        "  ouput_size = np.size(R2, 0)\n",
        "  G = [];\n",
        "  for j in range(ouput_size):\n",
        "    R = R2[j]\n",
        "    R[R<0] = 0# avoid negative correlation\n",
        "    grade_out = norm(R*grades_in)/norm(R)\n",
        "    G.append(grade_out)\n",
        "  return np.array(G)\n",
        "\n",
        "grades_in = np.array([2, 4, 4])\n",
        "\n",
        "print('how ', first_columns, grades_in, ' predicts')\n",
        "print(second_columns, ':')\n",
        "predictGrades(grades_in, R2)"
      ],
      "execution_count": 21,
      "outputs": [
        {
          "output_type": "stream",
          "text": [
            "[[ 0.79262909  0.85125653  0.02786391]\n",
            " [-0.17392527  0.05773503  0.52915026]\n",
            " [-0.46315109  0.27277236  1.        ]\n",
            " [ 0.88034084  0.57032343 -0.52610428]]\n",
            "how  ['math' 'physics' 'history'] [2 4 4]  predicts\n",
            "['computer science' 'literature' 'music' 'electricity'] :\n"
          ],
          "name": "stdout"
        },
        {
          "output_type": "execute_result",
          "data": {
            "text/plain": [
              "array([3.22964701, 4.        , 4.        , 2.74727504])"
            ]
          },
          "metadata": {
            "tags": []
          },
          "execution_count": 21
        }
      ]
    },
    {
      "cell_type": "markdown",
      "metadata": {
        "id": "cwlUZE3-HSyB"
      },
      "source": [
        "Second year"
      ]
    },
    {
      "cell_type": "code",
      "metadata": {
        "colab": {
          "base_uri": "https://localhost:8080/"
        },
        "id": "TWVaAY1FHR9J",
        "outputId": "778dbbcc-4fed-4fbc-d6fa-de328d1a98dc"
      },
      "source": [
        "\n",
        "# data in\n",
        "first_year, first_columns = getYear(df, 2018)\n",
        "second_year, second_columns = getYear(df, 2019)\n",
        "third_year, third_columns = getYear(df, 2020)\n",
        "\n",
        "# first step learning\n",
        "grades_in = np.array([3, 3, 5])# 'math' 'physics' 'history'\n",
        "R2 = learnGrades(first_year, second_year)\n",
        "predicted_second_year = predictGrades(grades_in, R2)\n",
        "#print(first_year, second_year, R2, 2018)\n",
        "\n",
        "# second step learning\n",
        "grades_in = np.concatenate((grades_in, predicted_second_year))\n",
        "previous_grades = np.concatenate((first_year, second_year), 1)\n",
        "previous_grades_columns = np.concatenate((first_columns, second_columns), 0)\n",
        "R3 = learnGrades(previous_grades, third_year)\n",
        "print(R3, '-R3')\n",
        "predicted_third_year = predictGrades(grades_in, R3)\n",
        "prediction_rates = [R2, R3]\n",
        "\n",
        "print('how ', previous_grades_columns, grades_in, ' predicts')\n",
        "print(third_columns, ':', predicted_third_year)\n",
        "print(predicted_third_year.astype(int))\n",
        "prediction_rates"
      ],
      "execution_count": 22,
      "outputs": [
        {
          "output_type": "stream",
          "text": [
            "[[ 0.39528471  0.72168784  0.33071891  0.70034929 -0.05        0.33071891\n",
            "   0.44901326]\n",
            " [-0.46315109  0.27277236  1.          0.02786391  0.52915026  1.\n",
            "  -0.52610428]\n",
            " [ 0.89331482  0.49236596 -0.26189246  0.64441198  0.1492405  -0.26189246\n",
            "   0.67010963]] -R3\n",
            "how  ['math' 'physics' 'history' 'computer science' 'literature' 'music'\n",
            " 'electricity'] [3.         3.         5.         3.00152907 4.9811409  4.88794095\n",
            " 3.        ]  predicts\n",
            "['management' 'economics' 'circuit design'] : [3.33626057 4.89861332 3.03063222]\n",
            "[3 4 3]\n"
          ],
          "name": "stdout"
        },
        {
          "output_type": "execute_result",
          "data": {
            "text/plain": [
              "[array([[0.79262909, 0.85125653, 0.02786391],\n",
              "        [0.        , 0.05773503, 0.52915026],\n",
              "        [0.        , 0.27277236, 1.        ],\n",
              "        [0.88034084, 0.57032343, 0.        ]]),\n",
              " array([[0.39528471, 0.72168784, 0.33071891, 0.70034929, 0.        ,\n",
              "         0.33071891, 0.44901326],\n",
              "        [0.        , 0.27277236, 1.        , 0.02786391, 0.52915026,\n",
              "         1.        , 0.        ],\n",
              "        [0.89331482, 0.49236596, 0.        , 0.64441198, 0.1492405 ,\n",
              "         0.        , 0.67010963]])]"
            ]
          },
          "metadata": {
            "tags": []
          },
          "execution_count": 22
        }
      ]
    },
    {
      "cell_type": "markdown",
      "metadata": {
        "id": "apXXxz0uuSbK"
      },
      "source": [
        "# Learning Function\n",
        "get learning coefficients from a dataset"
      ]
    },
    {
      "cell_type": "code",
      "metadata": {
        "colab": {
          "base_uri": "https://localhost:8080/"
        },
        "id": "fdF6N8UWuJE7",
        "outputId": "78d2af62-62b1-4e64-e0b3-b670ec76d49e"
      },
      "source": [
        "def learnFromFile(filepath):\n",
        "  df = pd.read_excel(filepath, skiprows = 0)\n",
        "  df.columns = df.columns.astype(str)# make all columns as str\n",
        "\n",
        "  # get years\n",
        "  columns = df.columns.to_numpy().astype(str)\n",
        "  years = np.unique([int(columns[i][0:4]) for i in range(1, np.size(columns))])\n",
        "  print('learning...')\n",
        "\n",
        "  R = []\n",
        "  previous_grades = []\n",
        "  for i in range(np.size(years)-1):\n",
        "    current_year = years[i]\n",
        "    next_year = years[i+1]\n",
        "    current_year_grades ,_ = getYear(df, current_year)\n",
        "    next_year_grades ,_ = getYear(df, next_year)\n",
        "    if i >0:\n",
        "      previous_grades = np.concatenate((previous_grades, current_year_grades), 1)\n",
        "    else:\n",
        "      previous_grades = current_year_grades.copy()\n",
        "\n",
        "    r = learnGrades(previous_grades, next_year_grades)\n",
        "    #print(current_year_grades, next_year_grades, r, current_year)\n",
        "    R.append(r)\n",
        "  return R\n",
        "\n",
        "filepath = '/content/StudentNeuralNetwork/example_dataset.xltx'\n",
        "R = learnFromFile(filepath)\n",
        "print(np.shape(np.asarray(R)), np.shape(np.array(prediction_rates)))\n",
        "print(R, 'R')\n",
        "print('-----')\n",
        "print(prediction_rates)"
      ],
      "execution_count": 23,
      "outputs": [
        {
          "output_type": "stream",
          "text": [
            "learning...\n",
            "(2,) (2,)\n",
            "[array([[ 0.79262909,  0.85125653,  0.02786391],\n",
            "       [-0.17392527,  0.05773503,  0.52915026],\n",
            "       [-0.46315109,  0.27277236,  1.        ],\n",
            "       [ 0.88034084,  0.57032343, -0.52610428]]), array([[ 0.39528471,  0.72168784,  0.33071891,  0.70034929, -0.05      ,\n",
            "         0.33071891,  0.44901326],\n",
            "       [-0.46315109,  0.27277236,  1.        ,  0.02786391,  0.52915026,\n",
            "         1.        , -0.52610428],\n",
            "       [ 0.89331482,  0.49236596, -0.26189246,  0.64441198,  0.1492405 ,\n",
            "        -0.26189246,  0.67010963]])] R\n",
            "-----\n",
            "[array([[0.79262909, 0.85125653, 0.02786391],\n",
            "       [0.        , 0.05773503, 0.52915026],\n",
            "       [0.        , 0.27277236, 1.        ],\n",
            "       [0.88034084, 0.57032343, 0.        ]]), array([[0.39528471, 0.72168784, 0.33071891, 0.70034929, 0.        ,\n",
            "        0.33071891, 0.44901326],\n",
            "       [0.        , 0.27277236, 1.        , 0.02786391, 0.52915026,\n",
            "        1.        , 0.        ],\n",
            "       [0.89331482, 0.49236596, 0.        , 0.64441198, 0.1492405 ,\n",
            "        0.        , 0.67010963]])]\n"
          ],
          "name": "stdout"
        },
        {
          "output_type": "stream",
          "text": [
            "/usr/local/lib/python3.7/dist-packages/numpy/core/_asarray.py:83: VisibleDeprecationWarning: Creating an ndarray from ragged nested sequences (which is a list-or-tuple of lists-or-tuples-or ndarrays with different lengths or shapes) is deprecated. If you meant to do this, you must specify 'dtype=object' when creating the ndarray\n",
            "  return array(a, dtype, copy=False, order=order)\n",
            "/usr/local/lib/python3.7/dist-packages/ipykernel_launcher.py:29: VisibleDeprecationWarning: Creating an ndarray from ragged nested sequences (which is a list-or-tuple of lists-or-tuples-or ndarrays with different lengths or shapes) is deprecated. If you meant to do this, you must specify 'dtype=object' when creating the ndarray\n"
          ],
          "name": "stderr"
        }
      ]
    },
    {
      "cell_type": "markdown",
      "metadata": {
        "id": "NuJDLCobd8mE"
      },
      "source": [
        "# Prediction Function \n",
        "predict trajectory using file with grades"
      ]
    },
    {
      "cell_type": "code",
      "metadata": {
        "colab": {
          "base_uri": "https://localhost:8080/",
          "height": 180
        },
        "id": "8Xe71kjgbb0E",
        "outputId": "c61fa5c7-27fb-49db-8e09-4b7825624dee"
      },
      "source": [
        "import io\n",
        "import pickle\n",
        "\n",
        "def predictByFile(filepath, prediction_rates):\n",
        "  st_df = pd.read_excel(filepath, skiprows = 0)# read student's data\n",
        "  st_df.columns = st_df.columns.astype(str)# make all columns as str\n",
        "\n",
        "  # get years\n",
        "  columns = st_df.columns.to_numpy().astype(str)\n",
        "  years = np.unique([int(columns[i][0:4]) for i in range(np.size(columns))])\n",
        "  print(years)\n",
        "  years = np.delete(years, -1) # we don't need the last year\n",
        " \n",
        "\n",
        "  overal_grades = [];\n",
        "  overal_columns = [];\n",
        "  for i in range(np.size(years)):\n",
        "    year = years[i]\n",
        "    R = prediction_rates[i]# current 'neural network'\n",
        "\n",
        "    # get grades  \n",
        "    spike_cols = [col for col in st_df.columns if str(year) in col]\n",
        "    data_out = st_df[spike_cols].to_numpy()[1, :].astype(float)\n",
        "    current_year_grades = data_out.copy()\n",
        "\n",
        "    # names of the subject\n",
        "    columns = st_df[spike_cols].to_numpy()[0].astype(str)\n",
        "    overal_columns = np.concatenate((overal_columns, columns), 0)\n",
        "    \n",
        "    if i > 0:\n",
        "      # remove nan values by previously predicted grades\n",
        "      nan_cond = np.where(np.isnan(current_year_grades))\n",
        "      current_year_grades[nan_cond] = predicted_grades[nan_cond]  \n",
        "      \n",
        "    # concatenate all grades for the next prediction\n",
        "    overal_grades = np.concatenate((overal_grades, current_year_grades))\n",
        "\n",
        "    # predict the next year\n",
        "    predicted_grades = predictGrades(overal_grades, R)  \n",
        "    \n",
        "    final_grades = np.concatenate((overal_grades, predicted_grades))\n",
        "    final_columns = st_df.to_numpy()[0].astype(str)\n",
        "  #print(overal_columns, final_grades)\n",
        "\n",
        "  st_df.loc['predicted'] = final_grades\n",
        "  \n",
        "  return st_df#final_grades, final_columns\n",
        "\n",
        "filepath = '/content/StudentNeuralNetwork/example_dataset.xltx'\n",
        "R = learnFromFile(filepath)\n",
        "pickle.dump( R, open( \"/content/StudentNeuralNetwork/R.p\", \"wb\" ) )\n",
        "\n",
        "R = pickle.load( open( \"/content/StudentNeuralNetwork/R.p\", \"rb\" ) )\n",
        "filepath = '/content/StudentNeuralNetwork/student_data_in.xlsx'\n",
        "st_df = predictByFile(filepath, R)\n",
        "st_df"
      ],
      "execution_count": 26,
      "outputs": [
        {
          "output_type": "stream",
          "text": [
            "learning...\n",
            "[2018 2019 2020]\n"
          ],
          "name": "stdout"
        },
        {
          "output_type": "execute_result",
          "data": {
            "text/html": [
              "<div>\n",
              "<style scoped>\n",
              "    .dataframe tbody tr th:only-of-type {\n",
              "        vertical-align: middle;\n",
              "    }\n",
              "\n",
              "    .dataframe tbody tr th {\n",
              "        vertical-align: top;\n",
              "    }\n",
              "\n",
              "    .dataframe thead th {\n",
              "        text-align: right;\n",
              "    }\n",
              "</style>\n",
              "<table border=\"1\" class=\"dataframe\">\n",
              "  <thead>\n",
              "    <tr style=\"text-align: right;\">\n",
              "      <th></th>\n",
              "      <th>2018.0</th>\n",
              "      <th>2018.1</th>\n",
              "      <th>2018.2</th>\n",
              "      <th>2019.0</th>\n",
              "      <th>2019.1</th>\n",
              "      <th>2019.2</th>\n",
              "      <th>2019.3</th>\n",
              "      <th>2020.0</th>\n",
              "      <th>2020.1</th>\n",
              "      <th>2020.2</th>\n",
              "    </tr>\n",
              "  </thead>\n",
              "  <tbody>\n",
              "    <tr>\n",
              "      <th>0</th>\n",
              "      <td>math</td>\n",
              "      <td>physics</td>\n",
              "      <td>history</td>\n",
              "      <td>computer science</td>\n",
              "      <td>literature</td>\n",
              "      <td>music</td>\n",
              "      <td>electricity</td>\n",
              "      <td>management</td>\n",
              "      <td>economics</td>\n",
              "      <td>circuit design</td>\n",
              "    </tr>\n",
              "    <tr>\n",
              "      <th>1</th>\n",
              "      <td>3</td>\n",
              "      <td>3</td>\n",
              "      <td>5</td>\n",
              "      <td>4</td>\n",
              "      <td>5</td>\n",
              "      <td>NaN</td>\n",
              "      <td>NaN</td>\n",
              "      <td>NaN</td>\n",
              "      <td>NaN</td>\n",
              "      <td>NaN</td>\n",
              "    </tr>\n",
              "    <tr>\n",
              "      <th>predicted</th>\n",
              "      <td>3</td>\n",
              "      <td>3</td>\n",
              "      <td>5</td>\n",
              "      <td>4</td>\n",
              "      <td>5</td>\n",
              "      <td>4.88794</td>\n",
              "      <td>3</td>\n",
              "      <td>3.64554</td>\n",
              "      <td>4.90113</td>\n",
              "      <td>3.27008</td>\n",
              "    </tr>\n",
              "  </tbody>\n",
              "</table>\n",
              "</div>"
            ],
            "text/plain": [
              "          2018.0   2018.1   2018.2  ...      2020.0     2020.1          2020.2\n",
              "0           math  physics  history  ...  management  economics  circuit design\n",
              "1              3        3        5  ...         NaN        NaN             NaN\n",
              "predicted      3        3        5  ...     3.64554    4.90113         3.27008\n",
              "\n",
              "[3 rows x 10 columns]"
            ]
          },
          "metadata": {
            "tags": []
          },
          "execution_count": 26
        }
      ]
    },
    {
      "cell_type": "code",
      "metadata": {
        "colab": {
          "base_uri": "https://localhost:8080/",
          "height": 380
        },
        "id": "napC1K9trjle",
        "outputId": "8c3e9b42-7467-4414-dfec-fb9d928b3b40"
      },
      "source": [
        "import matplotlib.pyplot as plt\n",
        "\n",
        "plt.figure(0, dpi = 100)\n",
        "plt.scatter(st_df.loc[1], st_df.loc[0], 60)\n",
        "plt.scatter(st_df.loc['predicted'], st_df.loc[0], 20)\n"
      ],
      "execution_count": 27,
      "outputs": [
        {
          "output_type": "execute_result",
          "data": {
            "text/plain": [
              "<matplotlib.collections.PathCollection at 0x7facce286850>"
            ]
          },
          "metadata": {
            "tags": []
          },
          "execution_count": 27
        },
        {
          "output_type": "display_data",
          "data": {
            "image/png": "[encoded data removed]",
            "text/plain": [
              "<Figure size 600x400 with 1 Axes>"
            ]
          },
          "metadata": {
            "tags": [],
            "needs_background": "light"
          }
        }
      ]
    },
    {
      "cell_type": "code",
      "metadata": {
        "id": "KCmxwbcWJUaM"
      },
      "source": [
        "!pip install anvil-uplink"
      ],
      "execution_count": null,
      "outputs": []
    },
    {
      "cell_type": "code",
      "metadata": {
        "colab": {
          "base_uri": "https://localhost:8080/"
        },
        "id": "7WLnIa4xJsoP",
        "outputId": "dae612cc-e5b9-463e-8757-8ea7c2027da1"
      },
      "source": [
        "import os\n",
        "import anvil.server\n",
        "\n",
        "def excel_to_blobmedia(filepath):\n",
        "    df = pd.read_excel(filepath, skiprows = 0)# read student's data\n",
        "    content = io.BytesIO()\n",
        "    df.to_excel(content, index=False)\n",
        "    content.seek(0, 0)\n",
        "\n",
        "    head, tail = os.path.split(filepath)\n",
        "\n",
        "    return anvil.BlobMedia(content=content.read(), content_type=\"application/vnd.ms-excel\", name=tail)\n",
        "\n",
        "filepath = '/content/StudentNeuralNetwork/student_data_in.xlsx'\n",
        "df_in = predictByFile(filepath, R)\n",
        "\n",
        "filepath = '/content/StudentNeuralNetwork/student_data_out.xlsx'\n",
        "df_in.to_excel(filepath, index=False)\n",
        "\n",
        "excel_to_blobmedia(filepath)"
      ],
      "execution_count": 29,
      "outputs": [
        {
          "output_type": "stream",
          "text": [
            "[2018 2019 2020]\n"
          ],
          "name": "stdout"
        },
        {
          "output_type": "execute_result",
          "data": {
            "text/plain": [
              "BlobMedia[application/vnd.ms-excel,5257 bytes,name=student_data_out.xlsx]"
            ]
          },
          "metadata": {
            "tags": []
          },
          "execution_count": 29
        }
      ]
    },
    {
      "cell_type": "code",
      "metadata": {
        "colab": {
          "base_uri": "https://localhost:8080/",
          "height": 393
        },
        "id": "pTF1pl9dPrjb",
        "outputId": "650042f3-14b4-41a0-e8b2-29f92d6e7961"
      },
      "source": [
        "import anvil.server\n",
        "import pickle\n",
        "\n",
        "@anvil.server.callable\n",
        "# https://anvil.works/forum/t/upload-file-to-uplink-local-storage-using-file-loader/3693\n",
        "def saveTable(file):\n",
        "  with open('/content/StudentNeuralNetwork/student_data_in.xlsx', 'wb') as f:\n",
        "    f.write(file.get_bytes())\n",
        "\n",
        "@anvil.server.callable\n",
        "def saveDataset(file):\n",
        "  filepath = '/content/StudentNeuralNetwork/dataset.xlsx'\n",
        "  with open(filepath, 'wb') as f:\n",
        "    f.write(file.get_bytes())\n",
        "  R = learnFromFile(filepath)\n",
        "  pickle.dump( R, open( \"/content/StudentNeuralNetwork/R.p\", \"wb\" ) )\n",
        "  return 'Dataset is loaded'\n",
        "\n",
        "@anvil.server.callable\n",
        "def callThePrediction():\n",
        "  R = pickle.load( open( \"/content/StudentNeuralNetwork/R.p\", \"rb\" ) )\n",
        "  df = predictByFile('/content/StudentNeuralNetwork/student_data_in.xlsx', R)\n",
        "  df.to_excel('/content/StudentNeuralNetwork/student_data_out.xlsx', index=False)\n",
        "  # https://anvil.works/forum/t/download-excel-file/7464/4\n",
        "  media_out = excel_to_blobmedia(filepath)\n",
        "  return media_out\n",
        "\n",
        "anvil.server.connect('RMSJ4GHU4YIGH3T5VHOWSHL2-OHI7U7ZW5FYT3CYA')\n",
        "anvil.server.wait_forever()"
      ],
      "execution_count": 31,
      "outputs": [
        {
          "output_type": "stream",
          "text": [
            "learning...\n",
            "learning...\n",
            "[2018 2019 2020]\n",
            "learning...\n",
            "[2018 2019 2020]\n"
          ],
          "name": "stdout"
        },
        {
          "output_type": "error",
          "ename": "KeyboardInterrupt",
          "evalue": "ignored",
          "traceback": [
            "\u001b[0;31m---------------------------------------------------------------------------\u001b[0m",
            "\u001b[0;31mKeyboardInterrupt\u001b[0m                         Traceback (most recent call last)",
            "\u001b[0;32m<ipython-input-31-6b8bf01a089e>\u001b[0m in \u001b[0;36m<module>\u001b[0;34m()\u001b[0m\n\u001b[1;32m     27\u001b[0m \u001b[0;34m\u001b[0m\u001b[0m\n\u001b[1;32m     28\u001b[0m \u001b[0manvil\u001b[0m\u001b[0;34m.\u001b[0m\u001b[0mserver\u001b[0m\u001b[0;34m.\u001b[0m\u001b[0mconnect\u001b[0m\u001b[0;34m(\u001b[0m\u001b[0;34m'RMSJ4GHU4YIGH3T5VHOWSHL2-OHI7U7ZW5FYT3CYA'\u001b[0m\u001b[0;34m)\u001b[0m\u001b[0;34m\u001b[0m\u001b[0;34m\u001b[0m\u001b[0m\n\u001b[0;32m---> 29\u001b[0;31m \u001b[0manvil\u001b[0m\u001b[0;34m.\u001b[0m\u001b[0mserver\u001b[0m\u001b[0;34m.\u001b[0m\u001b[0mwait_forever\u001b[0m\u001b[0;34m(\u001b[0m\u001b[0;34m)\u001b[0m\u001b[0;34m\u001b[0m\u001b[0;34m\u001b[0m\u001b[0m\n\u001b[0m",
            "\u001b[0;32m/usr/local/lib/python3.7/dist-packages/anvil/server.py\u001b[0m in \u001b[0;36mwait_forever\u001b[0;34m()\u001b[0m\n\u001b[1;32m    338\u001b[0m     \u001b[0m_get_connection\u001b[0m\u001b[0;34m(\u001b[0m\u001b[0;34m)\u001b[0m\u001b[0;34m\u001b[0m\u001b[0;34m\u001b[0m\u001b[0m\n\u001b[1;32m    339\u001b[0m     \u001b[0;32mwhile\u001b[0m \u001b[0;32mTrue\u001b[0m\u001b[0;34m:\u001b[0m\u001b[0;34m\u001b[0m\u001b[0;34m\u001b[0m\u001b[0m\n\u001b[0;32m--> 340\u001b[0;31m         \u001b[0mtime\u001b[0m\u001b[0;34m.\u001b[0m\u001b[0msleep\u001b[0m\u001b[0;34m(\u001b[0m\u001b[0;36m1\u001b[0m\u001b[0;34m)\u001b[0m\u001b[0;34m\u001b[0m\u001b[0;34m\u001b[0m\u001b[0m\n\u001b[0m",
            "\u001b[0;31mKeyboardInterrupt\u001b[0m: "
          ]
        }
      ]
    }
  ]
}