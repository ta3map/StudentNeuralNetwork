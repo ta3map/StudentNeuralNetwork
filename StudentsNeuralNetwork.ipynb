{
  "nbformat": 4,
  "nbformat_minor": 0,
  "metadata": {
    "colab": {
      "name": "StudentsNeuralNetwork.ipynb",
      "provenance": [],
      "authorship_tag": "ABX9TyNKuQigaASuhM2BjZ6qa+AN",
      "include_colab_link": true
    },
    "kernelspec": {
      "name": "python3",
      "display_name": "Python 3"
    },
    "language_info": {
      "name": "python"
    }
  },
  "cells": [
    {
      "cell_type": "markdown",
      "metadata": {
        "id": "view-in-github",
        "colab_type": "text"
      },
      "source": [
        "<a href=\"https://colab.research.google.com/github/ta3map/StudentNeuralNetwork/blob/main/StudentsNeuralNetwork.ipynb\" target=\"_parent\"><img src=\"https://colab.research.google.com/assets/colab-badge.svg\" alt=\"Open In Colab\"/></a>"
      ]
    },
    {
      "cell_type": "markdown",
      "metadata": {
        "id": "MNkRIIs_1i9o"
      },
      "source": [
        "# Predict next grades from previous"
      ]
    },
    {
      "cell_type": "markdown",
      "metadata": {
        "id": "dgEpGzJs11T5"
      },
      "source": [
        "Example data"
      ]
    },
    {
      "cell_type": "code",
      "metadata": {
        "colab": {
          "base_uri": "https://localhost:8080/"
        },
        "id": "FJxgemSBn3QA",
        "outputId": "06ed4f59-fda3-4687-b623-4287499c9d8e"
      },
      "source": [
        "!git clone https://github.com/ta3map/StudentNeuralNetwork"
      ],
      "execution_count": 117,
      "outputs": [
        {
          "output_type": "stream",
          "text": [
            "fatal: destination path 'StudentNeuralNetwork' already exists and is not an empty directory.\n"
          ],
          "name": "stdout"
        }
      ]
    },
    {
      "cell_type": "code",
      "metadata": {
        "colab": {
          "base_uri": "https://localhost:8080/",
          "height": 394
        },
        "id": "E71y7ZN8keXF",
        "outputId": "e8792ec2-a4cc-40d7-8e6a-82722178a117"
      },
      "source": [
        "import pandas as pd\n",
        "import numpy as np\n",
        "\n",
        "df = pd.read_excel('/content/StudentNeuralNetwork/example_dataset.xltx', skiprows = 0)\n",
        "\n",
        "# make all columns as str\n",
        "df.columns = df.columns.astype(str)\n",
        "\n",
        "df"
      ],
      "execution_count": 2,
      "outputs": [
        {
          "output_type": "execute_result",
          "data": {
            "text/html": [
              "<div>\n",
              "<style scoped>\n",
              "    .dataframe tbody tr th:only-of-type {\n",
              "        vertical-align: middle;\n",
              "    }\n",
              "\n",
              "    .dataframe tbody tr th {\n",
              "        vertical-align: top;\n",
              "    }\n",
              "\n",
              "    .dataframe thead th {\n",
              "        text-align: right;\n",
              "    }\n",
              "</style>\n",
              "<table border=\"1\" class=\"dataframe\">\n",
              "  <thead>\n",
              "    <tr style=\"text-align: right;\">\n",
              "      <th></th>\n",
              "      <th>year</th>\n",
              "      <th>2018</th>\n",
              "      <th>2018.1</th>\n",
              "      <th>2018.2</th>\n",
              "      <th>2019</th>\n",
              "      <th>2019.1</th>\n",
              "      <th>2019.2</th>\n",
              "      <th>2019.3</th>\n",
              "      <th>2020</th>\n",
              "      <th>2020.1</th>\n",
              "      <th>2020.2</th>\n",
              "    </tr>\n",
              "  </thead>\n",
              "  <tbody>\n",
              "    <tr>\n",
              "      <th>0</th>\n",
              "      <td>student</td>\n",
              "      <td>math</td>\n",
              "      <td>physics</td>\n",
              "      <td>history</td>\n",
              "      <td>computer science</td>\n",
              "      <td>literature</td>\n",
              "      <td>music</td>\n",
              "      <td>electricity</td>\n",
              "      <td>management</td>\n",
              "      <td>economics</td>\n",
              "      <td>circuit design</td>\n",
              "    </tr>\n",
              "    <tr>\n",
              "      <th>1</th>\n",
              "      <td>1</td>\n",
              "      <td>5</td>\n",
              "      <td>4</td>\n",
              "      <td>3</td>\n",
              "      <td>5</td>\n",
              "      <td>3</td>\n",
              "      <td>3</td>\n",
              "      <td>5</td>\n",
              "      <td>3</td>\n",
              "      <td>3</td>\n",
              "      <td>4</td>\n",
              "    </tr>\n",
              "    <tr>\n",
              "      <th>2</th>\n",
              "      <td>2</td>\n",
              "      <td>4</td>\n",
              "      <td>4</td>\n",
              "      <td>4</td>\n",
              "      <td>4</td>\n",
              "      <td>3</td>\n",
              "      <td>4</td>\n",
              "      <td>4</td>\n",
              "      <td>4</td>\n",
              "      <td>4</td>\n",
              "      <td>4</td>\n",
              "    </tr>\n",
              "    <tr>\n",
              "      <th>3</th>\n",
              "      <td>3</td>\n",
              "      <td>2</td>\n",
              "      <td>3</td>\n",
              "      <td>5</td>\n",
              "      <td>2</td>\n",
              "      <td>5</td>\n",
              "      <td>5</td>\n",
              "      <td>2</td>\n",
              "      <td>2</td>\n",
              "      <td>5</td>\n",
              "      <td>3</td>\n",
              "    </tr>\n",
              "    <tr>\n",
              "      <th>4</th>\n",
              "      <td>4</td>\n",
              "      <td>5</td>\n",
              "      <td>5</td>\n",
              "      <td>4</td>\n",
              "      <td>5</td>\n",
              "      <td>4</td>\n",
              "      <td>4</td>\n",
              "      <td>5</td>\n",
              "      <td>5</td>\n",
              "      <td>4</td>\n",
              "      <td>5</td>\n",
              "    </tr>\n",
              "    <tr>\n",
              "      <th>5</th>\n",
              "      <td>5</td>\n",
              "      <td>3</td>\n",
              "      <td>4</td>\n",
              "      <td>3</td>\n",
              "      <td>3</td>\n",
              "      <td>3</td>\n",
              "      <td>3</td>\n",
              "      <td>4</td>\n",
              "      <td>3</td>\n",
              "      <td>3</td>\n",
              "      <td>3</td>\n",
              "    </tr>\n",
              "    <tr>\n",
              "      <th>6</th>\n",
              "      <td>6</td>\n",
              "      <td>5</td>\n",
              "      <td>4</td>\n",
              "      <td>3</td>\n",
              "      <td>4</td>\n",
              "      <td>5</td>\n",
              "      <td>3</td>\n",
              "      <td>4</td>\n",
              "      <td>3</td>\n",
              "      <td>3</td>\n",
              "      <td>5</td>\n",
              "    </tr>\n",
              "    <tr>\n",
              "      <th>7</th>\n",
              "      <td>7</td>\n",
              "      <td>3</td>\n",
              "      <td>3</td>\n",
              "      <td>4</td>\n",
              "      <td>3</td>\n",
              "      <td>4</td>\n",
              "      <td>4</td>\n",
              "      <td>3</td>\n",
              "      <td>4</td>\n",
              "      <td>4</td>\n",
              "      <td>3</td>\n",
              "    </tr>\n",
              "    <tr>\n",
              "      <th>8</th>\n",
              "      <td>8</td>\n",
              "      <td>4</td>\n",
              "      <td>2</td>\n",
              "      <td>2</td>\n",
              "      <td>2</td>\n",
              "      <td>3</td>\n",
              "      <td>2</td>\n",
              "      <td>4</td>\n",
              "      <td>2</td>\n",
              "      <td>2</td>\n",
              "      <td>4</td>\n",
              "    </tr>\n",
              "    <tr>\n",
              "      <th>9</th>\n",
              "      <td>9</td>\n",
              "      <td>4</td>\n",
              "      <td>4</td>\n",
              "      <td>4</td>\n",
              "      <td>4</td>\n",
              "      <td>4</td>\n",
              "      <td>4</td>\n",
              "      <td>4</td>\n",
              "      <td>4</td>\n",
              "      <td>4</td>\n",
              "      <td>4</td>\n",
              "    </tr>\n",
              "    <tr>\n",
              "      <th>10</th>\n",
              "      <td>10</td>\n",
              "      <td>5</td>\n",
              "      <td>5</td>\n",
              "      <td>5</td>\n",
              "      <td>5</td>\n",
              "      <td>5</td>\n",
              "      <td>5</td>\n",
              "      <td>5</td>\n",
              "      <td>5</td>\n",
              "      <td>5</td>\n",
              "      <td>5</td>\n",
              "    </tr>\n",
              "  </tbody>\n",
              "</table>\n",
              "</div>"
            ],
            "text/plain": [
              "       year  2018   2018.1  ...        2020     2020.1          2020.2\n",
              "0   student  math  physics  ...  management  economics  circuit design\n",
              "1         1     5        4  ...           3          3               4\n",
              "2         2     4        4  ...           4          4               4\n",
              "3         3     2        3  ...           2          5               3\n",
              "4         4     5        5  ...           5          4               5\n",
              "5         5     3        4  ...           3          3               3\n",
              "6         6     5        4  ...           3          3               5\n",
              "7         7     3        3  ...           4          4               3\n",
              "8         8     4        2  ...           2          2               4\n",
              "9         9     4        4  ...           4          4               4\n",
              "10       10     5        5  ...           5          5               5\n",
              "\n",
              "[11 rows x 11 columns]"
            ]
          },
          "metadata": {
            "tags": []
          },
          "execution_count": 2
        }
      ]
    },
    {
      "cell_type": "markdown",
      "metadata": {
        "id": "fi9CBEV-1tet"
      },
      "source": [
        "Choose the year"
      ]
    },
    {
      "cell_type": "code",
      "metadata": {
        "colab": {
          "base_uri": "https://localhost:8080/"
        },
        "id": "dKocLwSwrPYh",
        "outputId": "f7859e4e-8258-46c5-9782-7ea8c3f888a7"
      },
      "source": [
        "year = 2018\n",
        "# Find column whose name contains a specific string - year\n",
        "spike_cols = [col for col in df.columns if str(year) in col]\n",
        "print(list(df.columns))\n",
        "print(spike_cols)"
      ],
      "execution_count": 3,
      "outputs": [
        {
          "output_type": "stream",
          "text": [
            "['year', '2018', '2018.1', '2018.2', '2019', '2019.1', '2019.2', '2019.3', '2020', '2020.1', '2020.2']\n",
            "['2018', '2018.1', '2018.2']\n"
          ],
          "name": "stdout"
        }
      ]
    },
    {
      "cell_type": "code",
      "metadata": {
        "colab": {
          "base_uri": "https://localhost:8080/"
        },
        "id": "rVEMEwwPuWl2",
        "outputId": "5e227177-a363-4cee-c6d0-71045b682cca"
      },
      "source": [
        "# extract grades from this year\n",
        "df[spike_cols].to_numpy()[1:-1].astype(int)"
      ],
      "execution_count": 4,
      "outputs": [
        {
          "output_type": "execute_result",
          "data": {
            "text/plain": [
              "array([[5, 4, 3],\n",
              "       [4, 4, 4],\n",
              "       [2, 3, 5],\n",
              "       [5, 5, 4],\n",
              "       [3, 4, 3],\n",
              "       [5, 4, 3],\n",
              "       [3, 3, 4],\n",
              "       [4, 2, 2],\n",
              "       [4, 4, 4]])"
            ]
          },
          "metadata": {
            "tags": []
          },
          "execution_count": 4
        }
      ]
    },
    {
      "cell_type": "code",
      "metadata": {
        "colab": {
          "base_uri": "https://localhost:8080/"
        },
        "id": "O7Q8gZ-L0hXF",
        "outputId": "16206df6-c7e5-4aa0-8943-89689bb76220"
      },
      "source": [
        "df[spike_cols].to_numpy()[0].astype(str)"
      ],
      "execution_count": 5,
      "outputs": [
        {
          "output_type": "execute_result",
          "data": {
            "text/plain": [
              "array(['math', 'physics', 'history'], dtype='<U7')"
            ]
          },
          "metadata": {
            "tags": []
          },
          "execution_count": 5
        }
      ]
    },
    {
      "cell_type": "markdown",
      "metadata": {
        "id": "PMMWY8Qa1yES"
      },
      "source": [
        "a function for getting data from the year"
      ]
    },
    {
      "cell_type": "code",
      "metadata": {
        "colab": {
          "base_uri": "https://localhost:8080/"
        },
        "id": "F_y6QVYavlTg",
        "outputId": "99acefc7-abfb-4254-f4c9-aa9e8c331c59"
      },
      "source": [
        "# function for getting data from the year\n",
        "def getYear(df, year):\n",
        "  spike_cols = [col for col in df.columns if str(year) in col]\n",
        "  data_out = df[spike_cols].to_numpy()[1:-1].astype(int)\n",
        "  columns = df[spike_cols].to_numpy()[0].astype(str)\n",
        "  return data_out, columns\n",
        "\n",
        "first_year, first_columns = getYear(df, 2018)\n",
        "second_year, second_columns = getYear(df, 2019)\n",
        "third_year, third_columns = getYear(df, 2020)\n",
        "\n",
        "ouput_size = np.size(second_year, 1)\n",
        "input_size = np.size(first_year, 1)\n",
        "R = [];\n",
        "j = 0 # output index \n",
        "for i in range(input_size):  # input index\n",
        "  r = np.corrcoef(first_year[:, i], second_year[:, j])\n",
        "  R.append(r[0, 1])\n",
        "\n",
        "print('how ', first_columns, ' predicts', second_columns[j], ':')\n",
        "print(R)"
      ],
      "execution_count": 29,
      "outputs": [
        {
          "output_type": "stream",
          "text": [
            "how  ['math' 'physics' 'history']  predicts computer science :\n",
            "[0.7926290870042669, 0.8512565307587486, 0.02786391062876759]\n"
          ],
          "name": "stdout"
        }
      ]
    },
    {
      "cell_type": "code",
      "metadata": {
        "colab": {
          "base_uri": "https://localhost:8080/"
        },
        "id": "FdVF-ow8pIXU",
        "outputId": "a8fb6322-601e-4e57-9ba8-4c5605cc2cda"
      },
      "source": [
        "from numpy.linalg import norm\n",
        "\n",
        "# 'music' from 'math' and 'history'\n",
        "R = np.array([-0.5,  1, 0.5, 0.6, -1])\n",
        "grades_in = np.array([5, 4, 5, 2, 4])\n",
        "\n",
        "Rp = R.copy()\n",
        "#Rp[Rp<0] = 0\n",
        "p_cond = np.where(Rp>0)\n",
        "Rbp = Rp[p_cond]/norm(Rp[p_cond])\n",
        "Rp[Rp<0] = 0\n",
        "\n",
        "Rn = R.copy()\n",
        "n_cond = np.where(Rn<0)\n",
        "Rbn = Rn[n_cond]/norm(Rn[n_cond])\n",
        "\n",
        "print(R[p_cond], norm(Rbp*grades_in[p_cond]), R[n_cond], norm(Rbn*grades_in[n_cond]))\n",
        "grade_out = norm(Rp*grades_in)/norm(Rp)\n",
        "grade_out"
      ],
      "execution_count": 150,
      "outputs": [
        {
          "output_type": "stream",
          "text": [
            "[1.  0.5 0.6] 3.8359204520278722 [-0.5 -1. ] 4.219004621945797\n"
          ],
          "name": "stdout"
        },
        {
          "output_type": "execute_result",
          "data": {
            "text/plain": [
              "3.8359204520278722"
            ]
          },
          "metadata": {
            "tags": []
          },
          "execution_count": 150
        }
      ]
    },
    {
      "cell_type": "markdown",
      "metadata": {
        "id": "8ZMi6PCovs4O"
      },
      "source": [
        "Predictive function for all grades"
      ]
    },
    {
      "cell_type": "code",
      "metadata": {
        "colab": {
          "base_uri": "https://localhost:8080/"
        },
        "id": "sAO3KDYfvr7m",
        "outputId": "f8404298-4b71-487c-80a9-8f2646818ad0"
      },
      "source": [
        "first_year, first_columns = getYear(df, 2018)\n",
        "second_year, second_columns = getYear(df, 2019)\n",
        "\n",
        "def learnGrades(first_year, second_year):\n",
        "  ouput_size = np.size(second_year, 1)\n",
        "  input_size = np.size(first_year, 1)\n",
        "  R2 = [];\n",
        "  for j in range(ouput_size): # output index \n",
        "    R1 = [];  \n",
        "    for i in range(input_size):  # input index\n",
        "      r = np.corrcoef(first_year[:, i], second_year[:, j])\n",
        "      R1.append(r[0, 1])\n",
        "    R2.append(R1);\n",
        "  return np.array(R2)\n",
        "\n",
        "R2 = learnGrades(first_year, second_year)\n",
        "print(R2)\n",
        "\n",
        "def predictGrades(grades_in, R2):\n",
        "  ouput_size = np.size(R2, 0)\n",
        "  G = [];\n",
        "  for j in range(ouput_size):\n",
        "    R = R2[j]\n",
        "    R[R<0] = 0# avoid negative correlation\n",
        "    grade_out = norm(R*grades_in)/norm(R)\n",
        "    G.append(grade_out)\n",
        "  return np.array(G)\n",
        "\n",
        "grades_in = np.array([2, 4, 4])\n",
        "\n",
        "print('how ', first_columns, grades_in, ' predicts')\n",
        "print(second_columns, ':')\n",
        "predictGrades(grades_in, R2)"
      ],
      "execution_count": 153,
      "outputs": [
        {
          "output_type": "stream",
          "text": [
            "[[ 0.79262909  0.85125653  0.02786391]\n",
            " [-0.17392527  0.05773503  0.52915026]\n",
            " [-0.46315109  0.27277236  1.        ]\n",
            " [ 0.88034084  0.57032343 -0.52610428]]\n",
            "how  ['math' 'physics' 'history'] [2 4 4]  predicts\n",
            "['computer science' 'literature' 'music' 'electricity'] :\n"
          ],
          "name": "stdout"
        },
        {
          "output_type": "execute_result",
          "data": {
            "text/plain": [
              "array([3.22964701, 4.        , 4.        , 2.74727504])"
            ]
          },
          "metadata": {
            "tags": []
          },
          "execution_count": 153
        }
      ]
    },
    {
      "cell_type": "markdown",
      "metadata": {
        "id": "cwlUZE3-HSyB"
      },
      "source": [
        "Second year"
      ]
    },
    {
      "cell_type": "code",
      "metadata": {
        "colab": {
          "base_uri": "https://localhost:8080/"
        },
        "id": "TWVaAY1FHR9J",
        "outputId": "eff9e802-68f6-49b2-b0ab-4f23edbc1974"
      },
      "source": [
        "\n",
        "# data in\n",
        "first_year, first_columns = getYear(df, 2018)\n",
        "second_year, second_columns = getYear(df, 2019)\n",
        "third_year, third_columns = getYear(df, 2020)\n",
        "\n",
        "# first step learning\n",
        "grades_in = np.array([3, 3, 5])# 'math' 'physics' 'history'\n",
        "R2 = learnGrades(first_year, second_year)\n",
        "predicted_second_year = predictGrades(grades_in, R2)\n",
        "\n",
        "# second step learning\n",
        "grades_in = np.concatenate((grades_in, predicted_second_year))\n",
        "previous_grades = np.concatenate((first_year, second_year), 1)\n",
        "previous_grades_columns = np.concatenate((first_columns, second_columns), 0)\n",
        "R2 = learnGrades(previous_grades, third_year)\n",
        "print(R2)\n",
        "predicted_third_year = predictGrades(grades_in, R2)\n",
        "\n",
        "print('how ', previous_grades_columns, grades_in, ' predicts')\n",
        "print(third_columns, ':', predicted_third_year)\n",
        "print(predicted_third_year.astype(int))"
      ],
      "execution_count": 172,
      "outputs": [
        {
          "output_type": "stream",
          "text": [
            "[[ 0.39528471  0.72168784  0.33071891  0.70034929 -0.05        0.33071891\n",
            "   0.44901326]\n",
            " [-0.46315109  0.27277236  1.          0.02786391  0.52915026  1.\n",
            "  -0.52610428]\n",
            " [ 0.89331482  0.49236596 -0.26189246  0.64441198  0.1492405  -0.26189246\n",
            "   0.67010963]]\n",
            "how  ['math' 'physics' 'history' 'computer science' 'literature' 'music'\n",
            " 'electricity'] [3.         3.         5.         3.00152907 4.9811409  4.88794095\n",
            " 3.        ]  predicts\n",
            "['management' 'economics' 'circuit design'] : [3.33626057 4.89861332 3.03063222]\n",
            "[3 4 3]\n"
          ],
          "name": "stdout"
        }
      ]
    }
  ]
}