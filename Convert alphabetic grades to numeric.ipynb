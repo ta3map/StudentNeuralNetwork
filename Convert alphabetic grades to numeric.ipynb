{
 "cells": [
  {
   "cell_type": "code",
   "execution_count": 20,
   "id": "arabic-extra",
   "metadata": {},
   "outputs": [],
   "source": [
    "import numpy as np\n",
    "import pandas as pd\n",
    "\n",
    "filename = 'FinalGrades_for_Azat.xlsx'\n",
    "df = pd.read_excel(filename)"
   ]
  },
  {
   "cell_type": "markdown",
   "id": "quantitative-compression",
   "metadata": {},
   "source": [
    "changing the letters to numbers"
   ]
  },
  {
   "cell_type": "code",
   "execution_count": 21,
   "id": "genetic-payday",
   "metadata": {},
   "outputs": [],
   "source": [
    "mapping = {'A': 5, 'B': 4, 'C': 3, 'D': 2}\n",
    "df = df.replace(mapping)"
   ]
  },
  {
   "cell_type": "markdown",
   "id": "wound-billion",
   "metadata": {},
   "source": [
    "dropping students with empty grades"
   ]
  },
  {
   "cell_type": "code",
   "execution_count": 34,
   "id": "graphic-columbia",
   "metadata": {},
   "outputs": [],
   "source": [
    "df = df.dropna()"
   ]
  },
  {
   "cell_type": "markdown",
   "id": "tribal-compact",
   "metadata": {},
   "source": [
    "dropping Pass/Fail type of columns"
   ]
  },
  {
   "cell_type": "code",
   "execution_count": 36,
   "id": "interracial-blogger",
   "metadata": {},
   "outputs": [],
   "source": [
    "pass_cols = df.columns[df.loc[0] == 'P']\n",
    "df = df.drop(pass_cols, axis =1)"
   ]
  },
  {
   "cell_type": "markdown",
   "id": "tight-boards",
   "metadata": {},
   "source": [
    "saving result"
   ]
  },
  {
   "cell_type": "code",
   "execution_count": 39,
   "id": "historic-champagne",
   "metadata": {},
   "outputs": [],
   "source": [
    "df.to_excel('converted_'+filename, index = False)  "
   ]
  }
 ],
 "metadata": {
  "kernelspec": {
   "display_name": "Python 3",
   "language": "python",
   "name": "python3"
  },
  "language_info": {
   "codemirror_mode": {
    "name": "ipython",
    "version": 3
   },
   "file_extension": ".py",
   "mimetype": "text/x-python",
   "name": "python",
   "nbconvert_exporter": "python",
   "pygments_lexer": "ipython3",
   "version": "3.8.3"
  }
 },
 "nbformat": 4,
 "nbformat_minor": 5
}
